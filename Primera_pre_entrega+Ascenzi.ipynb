{
  "nbformat": 4,
  "nbformat_minor": 0,
  "metadata": {
    "colab": {
      "provenance": [],
      "include_colab_link": true
    },
    "kernelspec": {
      "name": "python3",
      "display_name": "Python 3"
    },
    "language_info": {
      "name": "python"
    }
  },
  "cells": [
    {
      "cell_type": "markdown",
      "metadata": {
        "id": "view-in-github",
        "colab_type": "text"
      },
      "source": [
        "<a href=\"https://colab.research.google.com/github/JuanAscenzi/Primera_pre_entrega-Ascenzi/blob/main/Primera_pre_entrega%2BAscenzi.ipynb\" target=\"_parent\"><img src=\"https://colab.research.google.com/assets/colab-badge.svg\" alt=\"Open In Colab\"/></a>"
      ]
    },
    {
      "cell_type": "markdown",
      "source": [
        "Creacion de usuario"
      ],
      "metadata": {
        "id": "IX4DUyv19eY0"
      }
    },
    {
      "cell_type": "code",
      "execution_count": null,
      "metadata": {
        "id": "N3tHXGxT9Cdd"
      },
      "outputs": [],
      "source": [
        "nombre_usuario = input(\"Ingrese su nombre de usuario: \")\n",
        "clave_usuario = input(\"Ingrese su clave de usuario: \")\n",
        "usuarios_completos = str(f\"{nombre_usuario}, {clave_usuario}\".split(\" \"))\n",
        "\n",
        "exec(usuarios_completos)\n",
        "with open('usuarios.txt', 'w') as f:\n",
        "  f.write(usuarios_completos)"
      ]
    },
    {
      "cell_type": "markdown",
      "source": [
        "Lectura de usuarios ya creados"
      ],
      "metadata": {
        "id": "QWxdc3Pa9dPH"
      }
    },
    {
      "cell_type": "code",
      "source": [
        "f = open(\"/content/usuarios.txt\", \"r\")\n",
        "print(f.read())\n",
        "f. close()"
      ],
      "metadata": {
        "id": "AbxllbS19RQ_"
      },
      "execution_count": null,
      "outputs": []
    }
  ]
}